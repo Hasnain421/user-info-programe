{
 "cells": [
  {
   "cell_type": "markdown",
   "id": "f472204a-4913-4130-b711-f152b23c3a7e",
   "metadata": {},
   "source": [
    "# user info system"
   ]
  },
  {
   "cell_type": "code",
   "execution_count": 1,
   "id": "5442d17b-10e0-4147-a6cc-836d5628d3c8",
   "metadata": {},
   "outputs": [
    {
     "name": "stdin",
     "output_type": "stream",
     "text": [
      "what is your first name hasnain \n",
      "what is your last name abbas\n",
      "what is your age kskbx\n",
      "please enter your contacy number avxgv\n",
      "enter you permenent address jSX\n"
     ]
    },
    {
     "name": "stdout",
     "output_type": "stream",
     "text": [
      "my first name is hasnain \n",
      "my last name is abbas\n",
      "i am kskbx year old\n",
      "my contact number is avxgv\n",
      "my parmanent address is jSX\n"
     ]
    }
   ],
   "source": [
    "first_name = input(\"what is your first name\")\n",
    "last_name = input(\"what is your last name\")\n",
    "age = input(\"what is your age\")\n",
    "contact = input(\"please enter your contacy number\")\n",
    "address = input(\"enter you permenent address\")\n",
    "print(f\"\"\"my first name is {first_name}\n",
    "my last name is {last_name}\n",
    "i am {age} year old\n",
    "my contact number is {contact}\n",
    "my parmanent address is {address}\"\"\")"
   ]
  },
  {
   "cell_type": "code",
   "execution_count": null,
   "id": "cec2101b-fe83-41ed-b3fa-300804c8e203",
   "metadata": {},
   "outputs": [],
   "source": []
  },
  {
   "cell_type": "code",
   "execution_count": null,
   "id": "65c22a55-1acf-4d59-aaa2-9e2a892254d6",
   "metadata": {},
   "outputs": [],
   "source": []
  }
 ],
 "metadata": {
  "kernelspec": {
   "display_name": "Python 3 (ipykernel)",
   "language": "python",
   "name": "python3"
  },
  "language_info": {
   "codemirror_mode": {
    "name": "ipython",
    "version": 3
   },
   "file_extension": ".py",
   "mimetype": "text/x-python",
   "name": "python",
   "nbconvert_exporter": "python",
   "pygments_lexer": "ipython3",
   "version": "3.13.5"
  }
 },
 "nbformat": 4,
 "nbformat_minor": 5
}
